{
  "nbformat": 4,
  "nbformat_minor": 0,
  "metadata": {
    "colab": {
      "provenance": [],
      "authorship_tag": "ABX9TyNXVlu9FQjEhc5FhJTLmDOH",
      "include_colab_link": true
    },
    "kernelspec": {
      "name": "python3",
      "display_name": "Python 3"
    },
    "language_info": {
      "name": "python"
    }
  },
  "cells": [
    {
      "cell_type": "markdown",
      "metadata": {
        "id": "view-in-github",
        "colab_type": "text"
      },
      "source": [
        "<a href=\"https://colab.research.google.com/github/Llucascrodrigues/aplication_school/blob/main/Gerador_de_Feedback_individual_de_aluno.ipynb\" target=\"_parent\"><img src=\"https://colab.research.google.com/assets/colab-badge.svg\" alt=\"Open In Colab\"/></a>"
      ]
    },
    {
      "cell_type": "markdown",
      "source": [
        "#(Contrução)Gerador de Feedbacks para alunos"
      ],
      "metadata": {
        "id": "-knKKDp6WyB7"
      }
    },
    {
      "cell_type": "markdown",
      "source": [
        "Gerador de menções finais e feedbacks individuais"
      ],
      "metadata": {
        "id": "OiX7iNzvHUQv"
      }
    },
    {
      "cell_type": "code",
      "execution_count": 1,
      "metadata": {
        "colab": {
          "base_uri": "https://localhost:8080/"
        },
        "id": "j4ielZlnHTPp",
        "outputId": "14de31b1-fc86-40cf-d721-e105ab8df2b0"
      },
      "outputs": [
        {
          "name": "stdout",
          "output_type": "stream",
          "text": [
            "totais de carimbos 100\n",
            "Totais de aulas 100\n",
            "total de atividades dadas 100\n"
          ]
        }
      ],
      "source": [
        "#Parametros de avaliação\n",
        "vistos_totais=int(input(\"totais de carimbos \"))\n",
        "Aulas=int(input(\"Totais de aulas \"))\n",
        "Atividades=int(input(\"total de atividades dadas \"))"
      ]
    },
    {
      "cell_type": "code",
      "source": [
        "#parametros coletador dos alunos\n",
        "carimbos=int(input(\"carimbos \"))\n",
        "participacao=int(input(\"quantidade de pontos de participação \"))\n",
        "entregas=int(input(\"Entregas \"))"
      ],
      "metadata": {
        "colab": {
          "base_uri": "https://localhost:8080/"
        },
        "id": "yT6UKkMcJO8c",
        "outputId": "e0c9e771-2333-45d9-e63c-4f0ccfb1adca"
      },
      "execution_count": 13,
      "outputs": [
        {
          "name": "stdout",
          "output_type": "stream",
          "text": [
            "carimbos 75\n",
            "quantidade de pontos de participação 75\n",
            "Entregas 75\n"
          ]
        }
      ]
    },
    {
      "cell_type": "code",
      "source": [
        "#observações que devem ser anotadas em aula\n",
        "conversa=input(\"conversa (muito) (pouco) (não) \")\n",
        "qualidade_entrega=input(\"qualidade da entrega (pessimo)(ruim)(melhorar)(bom)(otimo) \")\n"
      ],
      "metadata": {
        "colab": {
          "base_uri": "https://localhost:8080/"
        },
        "id": "Be3mYHwAKC2X",
        "outputId": "025cb1b1-fdae-4516-8402-66c565160dbe"
      },
      "execution_count": 26,
      "outputs": [
        {
          "name": "stdout",
          "output_type": "stream",
          "text": [
            "conversa (muito) (pouco) (não) não\n",
            "qualidade da entrega (pessimo)(ruim)(melhorar)(bom)(otimo) bom\n"
          ]
        }
      ]
    },
    {
      "cell_type": "code",
      "source": [
        "porc_visto=(carimbos/vistos_totais)*100\n",
        "porc_entregas=(entregas/Atividades)*100\n",
        "porc_participacao=(participacao/Aulas)*100"
      ],
      "metadata": {
        "id": "rMDFv-lOK6a2"
      },
      "execution_count": 14,
      "outputs": []
    },
    {
      "cell_type": "code",
      "source": [
        "if porc_visto>70 and porc_entregas>70 and porc_participacao>70:\n",
        "  mencao=\"Menção final: D\"\n",
        "elif porc_visto<25 and porc_participacao<25 and porc_entregas<25:\n",
        "  mencao=\"Menção final: ND\"\n",
        "else:\n",
        "  mencao=\"Menção final: ED\"\n",
        "\n",
        "mencao"
      ],
      "metadata": {
        "colab": {
          "base_uri": "https://localhost:8080/",
          "height": 35
        },
        "id": "OIEcqdgqLZtf",
        "outputId": "8a75c6d0-70c3-46c3-efec-12983490d1a4"
      },
      "execution_count": 15,
      "outputs": [
        {
          "output_type": "execute_result",
          "data": {
            "text/plain": [
              "'Menção final: D'"
            ],
            "application/vnd.google.colaboratory.intrinsic+json": {
              "type": "string"
            }
          },
          "metadata": {},
          "execution_count": 15
        }
      ]
    },
    {
      "cell_type": "code",
      "source": [
        "'''Quero fazer uma função que me dê um feedback individual do estudante de acordo com os parametros que eu fornecer\n",
        "pretendo adicionar observações extras\n",
        "\n",
        "'''\n",
        "\n",
        "nome=input(\"nome \")\n",
        "\n",
        "print(mencao)\n",
        "if mencao==\"Menção final: D\"\n",
        "  if :\n",
        "    if conversa==\"não\":\n",
        "      print(\"%s teve uma ótima participação nesse bimestre se dedicando bastante para aprimorar os saberes e habilidades propostas pela área\"%(nome))\n",
        "    elif conversa==\"pouco\":\n",
        "      print(\"%s teve uma ótima participação nesse bimestre mesmo conversando um pouco, o que pode prejudicar o estudante, mas se dedicando bastante para aprimorar os saberes e habilidades propostas pela área\"%(nome))\n",
        "    elif conversa==\"muito\":\n",
        "      print(\"%s teve uma ótima participação nesse bimestre, porém tem conversado bastante durante as aulas, prejudicando seu processo de aprendizado, mesmo assim vem se dedicando bastante para aprimorar os saberes e habilidades propostas pela área\"%(nome))\n",
        "elif mencao==\"Menção final: ED\":\n",
        "\n",
        "\n",
        "elif mencao==\"Menção final: ND\""
      ],
      "metadata": {
        "colab": {
          "base_uri": "https://localhost:8080/"
        },
        "id": "Vt89AQjMM-op",
        "outputId": "210cb17c-5e0f-4686-a1bc-3925976dab44"
      },
      "execution_count": 32,
      "outputs": [
        {
          "output_type": "stream",
          "name": "stdout",
          "text": [
            "nome Lucas\n",
            "Menção final: D\n",
            "Lucas teve uma ótima participação nesse bimestre se dedicando bastante para aprimorar os saberes e habilidades propostas pela área\n"
          ]
        }
      ]
    }
  ]
}